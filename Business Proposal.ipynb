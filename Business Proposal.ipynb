{
    "cells": [
        {
            "cell_type": "markdown",
            "metadata": {
                "collapsed": true
            },
            "source": "# The Battle of Neighborhoods | Business Proposal | Introduction"
        },
        {
            "cell_type": "markdown",
            "metadata": {},
            "source": "## 1. Introduction:"
        },
        {
            "cell_type": "markdown",
            "metadata": {},
            "source": "### 1.1 Background"
        },
        {
            "cell_type": "markdown",
            "metadata": {},
            "source": "For this Capstone project, I am creating a hypothetical scenario regarding opening a hotel in the best location in the city of Chennai area, India. The main booming sector across the globe is Tourism. Primarily focussing on the places where tourists are attracted. So it is mandatory to have a good hotel for the tourist's comfort.Particularly, the location of the hotel is one of the most important decisions that will determine whether the hotel will be a success or a failure. Thereby they can enjoy the nearby popular places as much as needed. The solution is to recommend the best neighbourhood for opening the hotel in Chennai area."
        },
        {
            "cell_type": "markdown",
            "metadata": {},
            "source": "### 1.2 Business Problem"
        },
        {
            "cell_type": "markdown",
            "metadata": {},
            "source": "The objective of this capstone is to analyze and observe the most suitable location for the entrepreneur to open a new Hotel in Chennai, India, where they can make use of best opportunity. In Chennai, if an entrepreneur wants to open a hotel, which place should be considering?"
        },
        {
            "cell_type": "markdown",
            "metadata": {},
            "source": "### 1.3 Target Audience "
        },
        {
            "cell_type": "markdown",
            "metadata": {},
            "source": "This project is particularly useful for the entrepreneur who wants to find the location to open Hotel in Chennai, India. This project also gives benefit for the customers and the property developers."
        }
    ],
    "metadata": {
        "kernelspec": {
            "display_name": "Python 3.7",
            "language": "python",
            "name": "python3"
        },
        "language_info": {
            "codemirror_mode": {
                "name": "ipython",
                "version": 3
            },
            "file_extension": ".py",
            "mimetype": "text/x-python",
            "name": "python",
            "nbconvert_exporter": "python",
            "pygments_lexer": "ipython3",
            "version": "3.7.9"
        }
    },
    "nbformat": 4,
    "nbformat_minor": 1
}