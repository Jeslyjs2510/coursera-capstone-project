{
    "cells": [
        {
            "cell_type": "markdown",
            "metadata": {
                "collapsed": true
            },
            "source": "# The Battle of Neighborhoods | Data Description"
        },
        {
            "cell_type": "markdown",
            "metadata": {},
            "source": "## 2. Data Anatomization"
        },
        {
            "cell_type": "markdown",
            "metadata": {},
            "source": "###### To tackle the problem, we need to have the dataset that contains:"
        },
        {
            "cell_type": "markdown",
            "metadata": {},
            "source": " - Complete list of neighbourhoods in Chennai, India\n - Latitude and longitudes (i.e. Geographical coordinates) of the listed neighbourhoods. Source of data from FourSquare site\n - Venue data related to hotels, using Machine Learning methods called Clustering to solve the problem"
        },
        {
            "cell_type": "markdown",
            "metadata": {},
            "source": "### Data Source"
        },
        {
            "cell_type": "markdown",
            "metadata": {},
            "source": "+ The Wikipedia page [https://en.wikipedia.org/wiki/Category:Suburbs_of_Chennai](https://en.wikipedia.org/wiki/Category:Suburbs_of_Chennai) is the major source of data that is being used to obtain all the districts of Chennai, with a total of 67 neighbourhoods. With the help of beautifulsoup package, Web scrapping techniques are used to extract data from Wikipedia page and convert it into a pandas dataframe.  "
        },
        {
            "cell_type": "markdown",
            "metadata": {},
            "source": "+ By using the geocoder package, we will able to get the geological coordinates of the neighbourhoods i.e. the latitude and longitude coordinates of all neighbourhoods present in the dataframe."
        },
        {
            "cell_type": "markdown",
            "metadata": {},
            "source": "+ The foursquare location platform will be used as the sole data source for venue data of neighbouring places can be obtained through the API."
        }
    ],
    "metadata": {
        "kernelspec": {
            "display_name": "Python 3.7",
            "language": "python",
            "name": "python3"
        },
        "language_info": {
            "codemirror_mode": {
                "name": "ipython",
                "version": 3
            },
            "file_extension": ".py",
            "mimetype": "text/x-python",
            "name": "python",
            "nbconvert_exporter": "python",
            "pygments_lexer": "ipython3",
            "version": "3.7.9"
        }
    },
    "nbformat": 4,
    "nbformat_minor": 1
}